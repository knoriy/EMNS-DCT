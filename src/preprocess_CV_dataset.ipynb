{
 "cells": [
  {
   "cell_type": "code",
   "execution_count": 2,
   "id": "d4aa1aa5-ef63-4a31-a157-dc7a8acc200e",
   "metadata": {},
   "outputs": [
    {
     "name": "stdout",
     "output_type": "stream",
     "text": [
      "Requirement already satisfied: pandas in /home/knoriy/Documents/phd/dataset_collection_tool/.env/lib/python3.8/site-packages (1.3.5)\n",
      "Requirement already satisfied: pytz>=2017.3 in /home/knoriy/Documents/phd/dataset_collection_tool/.env/lib/python3.8/site-packages (from pandas) (2021.3)\n",
      "Requirement already satisfied: numpy>=1.17.3; platform_machine != \"aarch64\" and platform_machine != \"arm64\" and python_version < \"3.10\" in /home/knoriy/Documents/phd/dataset_collection_tool/.env/lib/python3.8/site-packages (from pandas) (1.22.0)\n",
      "Requirement already satisfied: python-dateutil>=2.7.3 in /home/knoriy/Documents/phd/dataset_collection_tool/.env/lib/python3.8/site-packages (from pandas) (2.8.2)\n",
      "Requirement already satisfied: six>=1.5 in /home/knoriy/Documents/phd/dataset_collection_tool/.env/lib/python3.8/site-packages (from python-dateutil>=2.7.3->pandas) (1.16.0)\n"
     ]
    }
   ],
   "source": [
    "!pip install pandas"
   ]
  },
  {
   "cell_type": "code",
   "execution_count": 3,
   "id": "de625ab3-66fe-48b0-a54b-68c481e4eaa1",
   "metadata": {},
   "outputs": [],
   "source": [
    "import pandas as pd\n",
    "import numpy as np\n",
    "import os"
   ]
  },
  {
   "cell_type": "code",
   "execution_count": 12,
   "id": "81cb0316-0adc-481b-a3fe-0e8de89dd9fb",
   "metadata": {},
   "outputs": [
    {
     "name": "stderr",
     "output_type": "stream",
     "text": [
      "/tmp/ipykernel_41462/2378415344.py:8: FutureWarning: In a future version of pandas all arguments of DataFrame.drop except for the argument 'labels' will be keyword-only\n",
      "  df.drop(df.columns.difference(['sentence','mood']), 1, inplace=True)\n"
     ]
    }
   ],
   "source": [
    "df_s = {}\n",
    "moods = ['Happy', 'Sad', 'Angry', 'Excited', 'Sarcastic', 'Neutral', 'Disgust', 'Surprised']\n",
    "\n",
    "\n",
    "for i in ('train', 'test', 'validated'):\n",
    "    df = pd.read_csv(f'/media/knoriy/DATA/Datasets/speech/cv-corpus-6.1-2020-12-11/en/{i}.tsv', sep='\\t')\n",
    "    df['mood'] = np.random.choice(list(moods), len(df))\n",
    "    df.drop(df.columns.difference(['sentence','mood']), 1, inplace=True)\n",
    "\n",
    "    df.to_csv(f'./data/{i}.tsv', sep='\\t', index=False, header=None)\n"
   ]
  },
  {
   "cell_type": "code",
   "execution_count": 18,
   "id": "668e3bf4-96e3-483a-b7ca-cd1ed1b7a27c",
   "metadata": {},
   "outputs": [
    {
     "data": {
      "text/html": [
       "<div>\n",
       "<style scoped>\n",
       "    .dataframe tbody tr th:only-of-type {\n",
       "        vertical-align: middle;\n",
       "    }\n",
       "\n",
       "    .dataframe tbody tr th {\n",
       "        vertical-align: top;\n",
       "    }\n",
       "\n",
       "    .dataframe thead th {\n",
       "        text-align: right;\n",
       "    }\n",
       "</style>\n",
       "<table border=\"1\" class=\"dataframe\">\n",
       "  <thead>\n",
       "    <tr style=\"text-align: right;\">\n",
       "      <th></th>\n",
       "      <th>sentence</th>\n",
       "      <th>mood</th>\n",
       "    </tr>\n",
       "  </thead>\n",
       "  <tbody>\n",
       "    <tr>\n",
       "      <th>0</th>\n",
       "      <td>She'll be all right.</td>\n",
       "      <td>Sarcastic</td>\n",
       "    </tr>\n",
       "    <tr>\n",
       "      <th>1</th>\n",
       "      <td>six</td>\n",
       "      <td>Sarcastic</td>\n",
       "    </tr>\n",
       "    <tr>\n",
       "      <th>2</th>\n",
       "      <td>All's well that ends well.</td>\n",
       "      <td>Angry</td>\n",
       "    </tr>\n",
       "    <tr>\n",
       "      <th>3</th>\n",
       "      <td>Do you mean it?</td>\n",
       "      <td>Sarcastic</td>\n",
       "    </tr>\n",
       "    <tr>\n",
       "      <th>4</th>\n",
       "      <td>The new patch is less invasive than the old on...</td>\n",
       "      <td>Neutral</td>\n",
       "    </tr>\n",
       "    <tr>\n",
       "      <th>...</th>\n",
       "      <td>...</td>\n",
       "      <td>...</td>\n",
       "    </tr>\n",
       "    <tr>\n",
       "      <th>1224859</th>\n",
       "      <td>The village was formerly called \"Indian River\"...</td>\n",
       "      <td>Surprised</td>\n",
       "    </tr>\n",
       "    <tr>\n",
       "      <th>1224860</th>\n",
       "      <td>The quay is on the Saint Lawrence.</td>\n",
       "      <td>Neutral</td>\n",
       "    </tr>\n",
       "    <tr>\n",
       "      <th>1224861</th>\n",
       "      <td>After going to France, Loewy become a naturali...</td>\n",
       "      <td>Excited</td>\n",
       "    </tr>\n",
       "    <tr>\n",
       "      <th>1224862</th>\n",
       "      <td>It is the longest highway of any kind in the s...</td>\n",
       "      <td>Sarcastic</td>\n",
       "    </tr>\n",
       "    <tr>\n",
       "      <th>1224863</th>\n",
       "      <td>Surveys found that most preferred a gradual wi...</td>\n",
       "      <td>Neutral</td>\n",
       "    </tr>\n",
       "  </tbody>\n",
       "</table>\n",
       "<p>1224864 rows × 2 columns</p>\n",
       "</div>"
      ],
      "text/plain": [
       "                                                  sentence       mood\n",
       "0                                     She'll be all right.  Sarcastic\n",
       "1                                                      six  Sarcastic\n",
       "2                               All's well that ends well.      Angry\n",
       "3                                          Do you mean it?  Sarcastic\n",
       "4        The new patch is less invasive than the old on...    Neutral\n",
       "...                                                    ...        ...\n",
       "1224859  The village was formerly called \"Indian River\"...  Surprised\n",
       "1224860                 The quay is on the Saint Lawrence.    Neutral\n",
       "1224861  After going to France, Loewy become a naturali...    Excited\n",
       "1224862  It is the longest highway of any kind in the s...  Sarcastic\n",
       "1224863  Surveys found that most preferred a gradual wi...    Neutral\n",
       "\n",
       "[1224864 rows x 2 columns]"
      ]
     },
     "execution_count": 18,
     "metadata": {},
     "output_type": "execute_result"
    }
   ],
   "source": [
    "df"
   ]
  },
  {
   "cell_type": "code",
   "execution_count": 53,
   "id": "c200fb00-cc28-4f0c-9564-93bd2336499b",
   "metadata": {},
   "outputs": [],
   "source": [
    "# create sample .tsv"
   ]
  },
  {
   "cell_type": "code",
   "execution_count": 22,
   "id": "e7919eab-0281-4d85-b306-9c41a30ff85c",
   "metadata": {},
   "outputs": [
    {
     "name": "stderr",
     "output_type": "stream",
     "text": [
      "/tmp/ipykernel_41462/1707020964.py:3: FutureWarning: In a future version of pandas all arguments of DataFrame.drop except for the argument 'labels' will be keyword-only\n",
      "  df.drop(df.columns.difference(['sentence','mood']), 1, inplace=True)\n"
     ]
    }
   ],
   "source": [
    "df = pd.read_csv(f'/media/knoriy/DATA/Datasets/speech/cv-corpus-6.1-2020-12-11/en/test.tsv', sep='\\t')\n",
    "df['mood'] = np.random.choice(list(moods), len(df))\n",
    "df.drop(df.columns.difference(['sentence','mood']), 1, inplace=True)\n",
    "\n",
    "df.head(50).to_csv(f'./data/sample.tsv', sep='\\t', index=False, header=None)"
   ]
  },
  {
   "cell_type": "code",
   "execution_count": null,
   "id": "09bc0240",
   "metadata": {},
   "outputs": [],
   "source": []
  }
 ],
 "metadata": {
  "kernelspec": {
   "display_name": "Python 3 (ipykernel)",
   "language": "python",
   "name": "python3"
  },
  "language_info": {
   "codemirror_mode": {
    "name": "ipython",
    "version": 3
   },
   "file_extension": ".py",
   "mimetype": "text/x-python",
   "name": "python",
   "nbconvert_exporter": "python",
   "pygments_lexer": "ipython3",
   "version": "3.8.10"
  }
 },
 "nbformat": 4,
 "nbformat_minor": 5
}
