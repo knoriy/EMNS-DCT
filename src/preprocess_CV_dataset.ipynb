{
 "cells": [
  {
   "cell_type": "code",
   "execution_count": 1,
   "id": "d4aa1aa5-ef63-4a31-a157-dc7a8acc200e",
   "metadata": {},
   "outputs": [
    {
     "name": "stdout",
     "output_type": "stream",
     "text": [
      "Requirement already satisfied: pandas in /home/docker/.local/lib/python3.8/site-packages (1.4.0)\n",
      "Requirement already satisfied: pytz>=2020.1 in /usr/local/lib/python3.8/dist-packages (from pandas) (2021.3)\n",
      "Requirement already satisfied: python-dateutil>=2.8.1 in /usr/local/lib/python3.8/dist-packages (from pandas) (2.8.2)\n",
      "Requirement already satisfied: numpy>=1.18.5; platform_machine != \"aarch64\" and platform_machine != \"arm64\" and python_version < \"3.10\" in /home/docker/.local/lib/python3.8/site-packages (from pandas) (1.21.4)\n",
      "Requirement already satisfied: six>=1.5 in /usr/local/lib/python3.8/dist-packages (from python-dateutil>=2.8.1->pandas) (1.16.0)\n"
     ]
    }
   ],
   "source": [
    "!pip install pandas"
   ]
  },
  {
   "cell_type": "code",
   "execution_count": 2,
   "id": "de625ab3-66fe-48b0-a54b-68c481e4eaa1",
   "metadata": {},
   "outputs": [],
   "source": [
    "import pandas as pd\n",
    "import numpy as np\n",
    "import os"
   ]
  },
  {
   "cell_type": "code",
   "execution_count": 7,
   "id": "ade546bb-386b-4d05-b438-8430c243f313",
   "metadata": {},
   "outputs": [],
   "source": [
    "def modify_file(df, moods):\n",
    "    return \n"
   ]
  },
  {
   "cell_type": "code",
   "execution_count": 52,
   "id": "81cb0316-0adc-481b-a3fe-0e8de89dd9fb",
   "metadata": {},
   "outputs": [
    {
     "name": "stderr",
     "output_type": "stream",
     "text": [
      "/tmp/ipykernel_64/3199121228.py:8: FutureWarning: In a future version of pandas all arguments of DataFrame.drop except for the argument 'labels' will be keyword-only.\n",
      "  df.drop(df.columns.difference(['sentence','mood']), 1, inplace=True)\n",
      "/tmp/ipykernel_64/3199121228.py:8: FutureWarning: In a future version of pandas all arguments of DataFrame.drop except for the argument 'labels' will be keyword-only.\n",
      "  df.drop(df.columns.difference(['sentence','mood']), 1, inplace=True)\n",
      "/tmp/ipykernel_64/3199121228.py:8: FutureWarning: In a future version of pandas all arguments of DataFrame.drop except for the argument 'labels' will be keyword-only.\n",
      "  df.drop(df.columns.difference(['sentence','mood']), 1, inplace=True)\n"
     ]
    }
   ],
   "source": [
    "df_s = {}\n",
    "moods = ['happy', 'angry', 'disgust', 'sad']\n",
    "\n",
    "\n",
    "for i in ('train', 'test', 'validated'):\n",
    "    df = pd.read_csv(f'/Datasets/speech/cv-corpus-6.1-2020-12-11/en/{i}.tsv', sep='\\t')\n",
    "    df['mood'] = np.random.choice(list(moods), len(df))\n",
    "    df.drop(df.columns.difference(['sentence','mood']), 1, inplace=True)\n",
    "\n",
    "    df.to_csv(f'./data/{i}.tsv', sep='\\t', index=False)\n"
   ]
  },
  {
   "cell_type": "code",
   "execution_count": 50,
   "id": "668e3bf4-96e3-483a-b7ca-cd1ed1b7a27c",
   "metadata": {},
   "outputs": [
    {
     "data": {
      "text/html": [
       "<div>\n",
       "<style scoped>\n",
       "    .dataframe tbody tr th:only-of-type {\n",
       "        vertical-align: middle;\n",
       "    }\n",
       "\n",
       "    .dataframe tbody tr th {\n",
       "        vertical-align: top;\n",
       "    }\n",
       "\n",
       "    .dataframe thead th {\n",
       "        text-align: right;\n",
       "    }\n",
       "</style>\n",
       "<table border=\"1\" class=\"dataframe\">\n",
       "  <thead>\n",
       "    <tr style=\"text-align: right;\">\n",
       "      <th></th>\n",
       "      <th>sentence</th>\n",
       "      <th>mood</th>\n",
       "    </tr>\n",
       "  </thead>\n",
       "  <tbody>\n",
       "    <tr>\n",
       "      <th>0</th>\n",
       "      <td>She'll be all right.</td>\n",
       "      <td>happy</td>\n",
       "    </tr>\n",
       "    <tr>\n",
       "      <th>1</th>\n",
       "      <td>six</td>\n",
       "      <td>angry</td>\n",
       "    </tr>\n",
       "    <tr>\n",
       "      <th>2</th>\n",
       "      <td>All's well that ends well.</td>\n",
       "      <td>happy</td>\n",
       "    </tr>\n",
       "    <tr>\n",
       "      <th>3</th>\n",
       "      <td>Do you mean it?</td>\n",
       "      <td>disgust</td>\n",
       "    </tr>\n",
       "    <tr>\n",
       "      <th>4</th>\n",
       "      <td>The new patch is less invasive than the old on...</td>\n",
       "      <td>disgust</td>\n",
       "    </tr>\n",
       "    <tr>\n",
       "      <th>...</th>\n",
       "      <td>...</td>\n",
       "      <td>...</td>\n",
       "    </tr>\n",
       "    <tr>\n",
       "      <th>1224859</th>\n",
       "      <td>The village was formerly called \"Indian River\"...</td>\n",
       "      <td>disgust</td>\n",
       "    </tr>\n",
       "    <tr>\n",
       "      <th>1224860</th>\n",
       "      <td>The quay is on the Saint Lawrence.</td>\n",
       "      <td>happy</td>\n",
       "    </tr>\n",
       "    <tr>\n",
       "      <th>1224861</th>\n",
       "      <td>After going to France, Loewy become a naturali...</td>\n",
       "      <td>angry</td>\n",
       "    </tr>\n",
       "    <tr>\n",
       "      <th>1224862</th>\n",
       "      <td>It is the longest highway of any kind in the s...</td>\n",
       "      <td>sad</td>\n",
       "    </tr>\n",
       "    <tr>\n",
       "      <th>1224863</th>\n",
       "      <td>Surveys found that most preferred a gradual wi...</td>\n",
       "      <td>disgust</td>\n",
       "    </tr>\n",
       "  </tbody>\n",
       "</table>\n",
       "<p>1224864 rows × 2 columns</p>\n",
       "</div>"
      ],
      "text/plain": [
       "                                                  sentence     mood\n",
       "0                                     She'll be all right.    happy\n",
       "1                                                      six    angry\n",
       "2                               All's well that ends well.    happy\n",
       "3                                          Do you mean it?  disgust\n",
       "4        The new patch is less invasive than the old on...  disgust\n",
       "...                                                    ...      ...\n",
       "1224859  The village was formerly called \"Indian River\"...  disgust\n",
       "1224860                 The quay is on the Saint Lawrence.    happy\n",
       "1224861  After going to France, Loewy become a naturali...    angry\n",
       "1224862  It is the longest highway of any kind in the s...      sad\n",
       "1224863  Surveys found that most preferred a gradual wi...  disgust\n",
       "\n",
       "[1224864 rows x 2 columns]"
      ]
     },
     "execution_count": 50,
     "metadata": {},
     "output_type": "execute_result"
    }
   ],
   "source": [
    "df"
   ]
  },
  {
   "cell_type": "code",
   "execution_count": 53,
   "id": "c200fb00-cc28-4f0c-9564-93bd2336499b",
   "metadata": {},
   "outputs": [],
   "source": [
    "# create sample .tsv"
   ]
  },
  {
   "cell_type": "code",
   "execution_count": 54,
   "id": "e7919eab-0281-4d85-b306-9c41a30ff85c",
   "metadata": {},
   "outputs": [
    {
     "name": "stderr",
     "output_type": "stream",
     "text": [
      "/tmp/ipykernel_64/3888794658.py:3: FutureWarning: In a future version of pandas all arguments of DataFrame.drop except for the argument 'labels' will be keyword-only.\n",
      "  df.drop(df.columns.difference(['sentence','mood']), 1, inplace=True)\n"
     ]
    }
   ],
   "source": [
    "df = pd.read_csv(f'/Datasets/speech/cv-corpus-6.1-2020-12-11/en/test.tsv', sep='\\t')\n",
    "df['mood'] = np.random.choice(list(moods), len(df))\n",
    "df.drop(df.columns.difference(['sentence','mood']), 1, inplace=True)\n",
    "\n",
    "df.head(50).to_csv(f'./data/sample.tsv', sep='\\t', index=False)"
   ]
  },
  {
   "cell_type": "code",
   "execution_count": null,
   "id": "870d7e03-863b-4e12-a91d-9969207280de",
   "metadata": {},
   "outputs": [],
   "source": []
  }
 ],
 "metadata": {
  "kernelspec": {
   "display_name": "Python 3 (ipykernel)",
   "language": "python",
   "name": "python3"
  },
  "language_info": {
   "codemirror_mode": {
    "name": "ipython",
    "version": 3
   },
   "file_extension": ".py",
   "mimetype": "text/x-python",
   "name": "python",
   "nbconvert_exporter": "python",
   "pygments_lexer": "ipython3",
   "version": "3.8.10"
  }
 },
 "nbformat": 4,
 "nbformat_minor": 5
}
